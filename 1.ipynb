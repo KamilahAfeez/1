{
  "nbformat": 4,
  "nbformat_minor": 0,
  "metadata": {
    "colab": {
      "provenance": [],
      "authorship_tag": "ABX9TyNM9k05Wb3bZtaavXaiywPC",
      "include_colab_link": true
    },
    "kernelspec": {
      "name": "python3",
      "display_name": "Python 3"
    },
    "language_info": {
      "name": "python"
    }
  },
  "cells": [
    {
      "cell_type": "markdown",
      "metadata": {
        "id": "view-in-github",
        "colab_type": "text"
      },
      "source": [
        "<a href=\"https://colab.research.google.com/github/KamilahAfeez/1/blob/main/1.ipynb\" target=\"_parent\"><img src=\"https://colab.research.google.com/assets/colab-badge.svg\" alt=\"Open In Colab\"/></a>"
      ]
    },
    {
      "cell_type": "code",
      "execution_count": 13,
      "metadata": {
        "colab": {
          "base_uri": "https://localhost:8080/"
        },
        "id": "cr9co0zZ_o7-",
        "outputId": "4a6959e9-65aa-4612-c40a-8dc4e076b6f2"
      },
      "outputs": [
        {
          "output_type": "stream",
          "name": "stdout",
          "text": [
            "Choose a country (Sudan, Nigeria, UnitedKingdom): Sudan\n",
            "\\---Country Information ---\n",
            "Khartoum is the capital of Sudan.\n",
            "Arabic is the official language of Sudan.\n",
            "Sudan is a developing country.\n"
          ]
        }
      ],
      "source": [
        "class Sudan():\n",
        "   def capital(self):\n",
        "      print(\"Khartoum is the capital of Sudan.\")\n",
        "\n",
        "   def language(self):\n",
        "        print(\"Arabic is the official language of Sudan.\")\n",
        "\n",
        "   def type(self):\n",
        "        print(\"Sudan is a developing country.\")\n",
        "\n",
        "class Nigeria():\n",
        "     def capital(self):\n",
        "      print(\"Abuja is the capital of Nigeria.\")\n",
        "\n",
        "     def language(self):\n",
        "        print(\"English is the official language of Nigeria.\")\n",
        "\n",
        "     def type(self):\n",
        "        print(\"Nigeria is a developing country.\")\n",
        "\n",
        "class UnitedKingdom():\n",
        "    def capital(self):\n",
        "      print(\"London is the capital of UnitedKingdom.\")\n",
        "\n",
        "    def language(self):\n",
        "        print(\"English is the official language of UnitedKingdom.\")\n",
        "\n",
        "    def type(self):\n",
        "        print(\"UnitedKingdom is a developed country.\")\n",
        "\n",
        "countries = {\n",
        "    \"sudan\": Sudan(),\n",
        "    \"nigeria\": Nigeria(),\n",
        "     \"unitedkingdom\": UnitedKingdom(),\n",
        "}\n",
        "\n",
        "choice = input(\"Choose a country (Sudan, Nigeria, UnitedKingdom): \").strip().lower()\n",
        "\n",
        "if choice in countries:\n",
        "  print(\"\\---Country Information ---\")\n",
        "  country = countries[choice]\n",
        "  country.capital()\n",
        "  country.language()\n",
        "  country.type()\n",
        "else:\n",
        "  print(\"Invalid input. Plese enter a valid African country from the list.\")"
      ]
    }
  ]
}